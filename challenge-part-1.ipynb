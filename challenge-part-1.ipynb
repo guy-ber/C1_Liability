{
 "cells": [
  {
   "cell_type": "markdown",
   "metadata": {},
   "source": [
    "# AI & Law - Challenge 1 - Liability - Part 1"
   ]
  },
  {
   "cell_type": "markdown",
   "metadata": {},
   "source": [
    "## Case-Study\n",
    "\n",
    "<div dir=\"auto\">\n",
    "ביום 1.1.2020 בשעה 19:47, מספר שניות לאחר שהשתלב בצומת, פגע רכב אוטונומי מתוצרת \"Play\" (יצרנית רכבים המפתחת ומשווקת רכבים אוטונומיים לצד רכבים קלאסיים) בהולך הרגל רוג'ר. \n",
    "במושב הנהג ישב בראד, אשר בעת התאונה היה עסוק במכשיר הטלפון שלו. מספר דקות לאחר התאונה, בעת חקירתו על ידי שוטרת תנועה, העיד בראד שהוא ראה את רוג'ר מתהלך באמצע הכביש אבל הניח שהרכב יעצור ולא יפגע בו. \n",
    "רוג'ר נזקק לטיפול רפואי יקר, והוא מעוניין לתבוע (במדינת פלורידה) בשל הנזקים שנגרמו לו. \n",
    "</div>\n"
   ]
  },
  {
   "cell_type": "markdown",
   "metadata": {},
   "source": [
    "## Prerequisite Object Detection & mAP\n",
    "\n",
    "1. [Intro to object localization and detection video](https://youtu.be/GSwYGkTfOKk) (12 minutes) by Andrew Ng from deeplearning.ai\n",
    "2. [Metrics for object detection](https://github.com/rafaelpadilla/Object-Detection-Metrics/blob/master/README.md) - from \"Important definitions\" until \"How to use this project\" (without!)\n",
    "3. [mAP](https://medium.com/@jonathan_hui/map-mean-average-precision-for-object-detection-45c121a31173) - mean Average Precision"
   ]
  },
  {
   "cell_type": "markdown",
   "metadata": {},
   "source": [
    "## Uncomment and Run Once!"
   ]
  },
  {
   "cell_type": "code",
   "execution_count": null,
   "metadata": {},
   "outputs": [],
   "source": [
    "# Install dependencies\n",
    "\n",
    "!pip install --no-cache-dir --user -r requirements.txt"
   ]
  },
  {
   "cell_type": "code",
   "execution_count": null,
   "metadata": {},
   "outputs": [],
   "source": [
    "# Download trained model\n",
    "\n",
    "!mkdir -p checkpoints\n",
    "\n",
    "!wget --load-cookies /tmp/cookies.txt \\\n",
    "\"https://docs.google.com/uc?export=download&confirm=$(wget --quiet --save-cookies /tmp/cookies.txt --keep-session-cookies --no-check-certificate 'https://docs.google.com/uc?export=download&id=1GZ4S2o5_ICtG3Ffl1X3eCD2KbK5k3Yxt' -O- | sed -rn 's/.*confirm=([0-9A-Za-z_]+).*/\\1\\n/p')&id=1GZ4S2o5_ICtG3Ffl1X3eCD2KbK5k3Yxt\" \\\n",
    "-O ./checkpoints/yolov3_ckpt_99.pth && rm -rf /tmp/cookies.txt"
   ]
  },
  {
   "cell_type": "markdown",
   "metadata": {},
   "source": [
    "## Traffic Sign Detection\n",
    "\n",
    "**Model:** YOLOv3 on PyTourch implemented by [Erik Linder-Norén](https://github.com/eriklindernoren/PyTorch-YOLOv3), GPL-3.0\n",
    "\n",
    "**Dataset:** [Traffic Signs Dataset in YOLO format\n",
    "](https://www.kaggle.com/valentynsichkar/traffic-signs-dataset-in-yolo-format) by [Valentyn Sichkar\n",
    "](https://valentynsichkar.name/) (Originally: [GTSDB](http://benchmark.ini.rub.de/?section=gtsdb) (German Traffic Sign Detection Benchmark) by INI)"
   ]
  },
  {
   "cell_type": "markdown",
   "metadata": {},
   "source": [
    "### Setup"
   ]
  },
  {
   "cell_type": "code",
   "execution_count": null,
   "metadata": {},
   "outputs": [],
   "source": [
    "import numpy as np\n",
    "import matplotlib.pylab as plt\n",
    "from tqdm import tqdm, trange\n",
    "\n",
    "from src.challenge import (load_model, load_class_names,\n",
    "                           draw_detections,\n",
    "                           draw_multiple_detections,\n",
    "                           draw_evaluation,\n",
    "                           detect_multi,\n",
    "                           apply_augmentation, evaluate)"
   ]
  },
  {
   "cell_type": "code",
   "execution_count": null,
   "metadata": {},
   "outputs": [],
   "source": [
    "model_def = 'config/yolov3-custom.cfg'\n",
    "data_config = 'config/custom.data'\n",
    "weights_path = 'checkpoints/yolov3_ckpt_99.pth'"
   ]
  },
  {
   "cell_type": "markdown",
   "metadata": {},
   "source": [
    "Loading the model:"
   ]
  },
  {
   "cell_type": "code",
   "execution_count": null,
   "metadata": {},
   "outputs": [],
   "source": [
    "model = load_model(weights_path, model_def, data_config)"
   ]
  },
  {
   "cell_type": "markdown",
   "metadata": {},
   "source": [
    "All the traffic signs are divided into four groups, which are the lables that the model predcit:"
   ]
  },
  {
   "cell_type": "code",
   "execution_count": null,
   "metadata": {},
   "outputs": [],
   "source": [
    "class_names = load_class_names(data_config)\n",
    "\n",
    "class_names"
   ]
  },
  {
   "cell_type": "markdown",
   "metadata": {},
   "source": [
    "You can find additional details about how each traffic signn is assigned to a label in [the dataset page in Kaggle](https://www.kaggle.com/valentynsichkar/traffic-signs-dataset-in-yolo-format) (Search for \"Traffic Sins in this Dataset are grouped into four categories\" section)"
   ]
  },
  {
   "cell_type": "markdown",
   "metadata": {},
   "source": [
    "## Image from the accident site\n",
    "<small>Source: Google Street View</small>\n",
    "\n",
    "`./data/custom/site/site.png`\n",
    "![](./data/custom/site/site.png)"
   ]
  },
  {
   "cell_type": "markdown",
   "metadata": {},
   "source": [
    "### Let's try to detect traffic signs in an image from accident site using the model  "
   ]
  },
  {
   "cell_type": "code",
   "execution_count": null,
   "metadata": {},
   "outputs": [],
   "source": [
    "# The function detect_multi with the argument `path_type='folder'`\n",
    "# iterates over all the images in the `path` argument,\n",
    "# it returns a list of paths as the first returned value\n",
    "# and a list of images as 4-dim numpy array (NWHC) as the second returned value\n",
    "site_img_paths, site_img_detections = detect_multi(model, class_names,\n",
    "                                                   path= './data/custom/site', path_type='folder')\n",
    "\n",
    "# Draw the detections\n",
    "draw_detections(site_img_paths[0], site_img_detections[0])"
   ]
  }
 ],
 "metadata": {
  "kernelspec": {
   "display_name": "Python 3",
   "language": "python",
   "name": "python3"
  },
  "language_info": {
   "codemirror_mode": {
    "name": "ipython",
    "version": 3
   },
   "file_extension": ".py",
   "mimetype": "text/x-python",
   "name": "python",
   "nbconvert_exporter": "python",
   "pygments_lexer": "ipython3",
   "version": "3.7.5"
  }
 },
 "nbformat": 4,
 "nbformat_minor": 4
}
