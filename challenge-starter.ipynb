{
 "cells": [
  {
   "cell_type": "markdown",
   "metadata": {},
   "source": [
    "# AI & Law - Challenge 1 - Liability\n",
    "# Starter"
   ]
  },
  {
   "cell_type": "markdown",
   "metadata": {},
   "source": [
    "## Case-Study\n",
    "\n",
    "<div dir=\"auto\">\n",
    "ביום 1.1.2020 בשעה 19:47, מספר שניות לאחר שהשתלב בצומת, פגע רכב אוטונומי מתוצרת \"Play\" (יצרנית רכבים המפתחת ומשווקת רכבים אוטונומיים לצד רכבים קלאסיים) בהולך הרגל רוג'ר. \n",
    "במושב הנהג ישב בראד, אשר בעת התאונה היה עסוק במכשיר הטלפון שלו. מספר דקות לאחר התאונה, בעת חקירתו על ידי שוטרת תנועה, העיד בראד שהוא ראה את רוג'ר מתהלך באמצע הכביש אבל הניח שהרכב יעצור ולא יפגע בו. \n",
    "רוג'ר נזקק לטיפול רפואי יקר, והוא מעוניין לתבוע (במדינת פלורידה) בשל הנזקים שנגרמו לו. \n",
    "</div>\n"
   ]
  },
  {
   "cell_type": "markdown",
   "metadata": {},
   "source": [
    "## Prerequisite Object Detection & mAP\n",
    "\n",
    "1. [Intro to object localization and detection video](https://youtu.be/GSwYGkTfOKk) (12 minutes) by Andrew Ng from deeplearning.ai\n",
    "2. [Metrics for object detection](https://github.com/rafaelpadilla/Object-Detection-Metrics/blob/master/README.md) - from \"Important definitions\" until \"How to use this project\" (without!)\n",
    "3. [mAP](https://medium.com/@jonathan_hui/map-mean-average-precision-for-object-detection-45c121a31173) - mean Average Precision"
   ]
  },
  {
   "cell_type": "markdown",
   "metadata": {},
   "source": [
    "## Uncomment and Run Once!"
   ]
  },
  {
   "cell_type": "code",
   "execution_count": null,
   "metadata": {},
   "outputs": [],
   "source": [
    "# Install dependencies\n",
    "\n",
    "!pip install requirements.txt"
   ]
  },
  {
   "cell_type": "code",
   "execution_count": null,
   "metadata": {},
   "outputs": [],
   "source": [
    "# Download trained model\n",
    "\n",
    "!wget --load-cookies /tmp/cookies.txt \\\n",
    "\"https://docs.google.com/uc?export=download&confirm=$(wget --quiet --save-cookies /tmp/cookies.txt --keep-session-cookies --no-check-certificate 'https://docs.google.com/uc?export=download&id=1GZ4S2o5_ICtG3Ffl1X3eCD2KbK5k3Yxt' -O- | sed -rn 's/.*confirm=([0-9A-Za-z_]+).*/\\1\\n/p')&id=1GZ4S2o5_ICtG3Ffl1X3eCD2KbK5k3Yxt\" \\\n",
    "-O ./checkpoints/yolov3_ckpt_99.pth && rm -rf /tmp/cookies.txt"
   ]
  },
  {
   "cell_type": "markdown",
   "metadata": {},
   "source": [
    "## Traffic Sign Detection\n",
    "\n",
    "**Model:** YOLOv3 on PyTourch implemented by [Erik Linder-Norén](https://github.com/eriklindernoren/PyTorch-YOLOv3), GPL-3.0\n",
    "\n",
    "**Dataset:** [GTSDB](http://benchmark.ini.rub.de/?section=gtsdb) (German Traffic Sign Detection Benchmark) by INI"
   ]
  },
  {
   "cell_type": "markdown",
   "metadata": {},
   "source": [
    "### Setup"
   ]
  },
  {
   "cell_type": "code",
   "execution_count": null,
   "metadata": {},
   "outputs": [],
   "source": [
    "import numpy as np\n",
    "import matplotlib.pylab as plt\n",
    "from tqdm import tqdm, trange\n",
    "\n",
    "from challenge import (load_model, load_class_names,\n",
    "                       draw_detections,\n",
    "                       draw_multiple_detections,\n",
    "                       draw_evaluation,\n",
    "                       detect_multi,\n",
    "                       apply_augmentation, evaluate)\n",
    "import agumentation.automold as am"
   ]
  },
  {
   "cell_type": "code",
   "execution_count": null,
   "metadata": {},
   "outputs": [],
   "source": [
    "model_def = 'config/yolov3-custom.cfg'\n",
    "data_config = 'config/custom.data'\n",
    "weights_path = 'checkpoints/yolov3_ckpt_99.pth'"
   ]
  },
  {
   "cell_type": "markdown",
   "metadata": {},
   "source": [
    "Loading the model:"
   ]
  },
  {
   "cell_type": "code",
   "execution_count": null,
   "metadata": {},
   "outputs": [],
   "source": [
    "model = load_model(weights_path, model_def, data_config)"
   ]
  },
  {
   "cell_type": "markdown",
   "metadata": {},
   "source": [
    "Class/label names:"
   ]
  },
  {
   "cell_type": "code",
   "execution_count": null,
   "metadata": {},
   "outputs": [],
   "source": [
    "class_names = load_class_names(data_config)\n",
    "\n",
    "class_names"
   ]
  },
  {
   "cell_type": "markdown",
   "metadata": {},
   "source": [
    "### Image from the accident\n",
    "<small>Source: Google Street View</small>\n",
    "\n",
    "`./data/custom/accident/accident-day.png`\n",
    "![](./data/custom/accident/accident-day.png)"
   ]
  },
  {
   "cell_type": "markdown",
   "metadata": {},
   "source": [
    "### Let's try to classify the two images using the Traffic Sign Detector"
   ]
  },
  {
   "cell_type": "code",
   "execution_count": null,
   "metadata": {},
   "outputs": [],
   "source": [
    "# The function detect_multi with the argument `path_type='folder'`\n",
    "# iterates over all the images in the `path` argument,\n",
    "# it returns a list of paths as the first returned value\n",
    "# and a list of images as 4-dim numpy array (NWHC) as the second returned value\n",
    "accident_img_paths, accident_img_detections = detect_multi(model, class_names,\n",
    "                                                           path= './data/custom/accident', path_type='folder')\n",
    "\n",
    "# Draw the detections one after another\n",
    "for p, d in zip(accident_img_paths, accident_img_detections):\n",
    "    draw_detections(p, d)"
   ]
  },
  {
   "cell_type": "markdown",
   "metadata": {},
   "source": [
    "### Training and Validation Datasets\n",
    "\n",
    "The files `./data/custom/train.txt` and `./data/custom/valid.txt` holds the paths of the training and validation dataset imgages, respectively.\n"
   ]
  },
  {
   "cell_type": "code",
   "execution_count": null,
   "metadata": {},
   "outputs": [],
   "source": [
    "!head ./data/custom/train.txt "
   ]
  },
  {
   "cell_type": "code",
   "execution_count": null,
   "metadata": {},
   "outputs": [],
   "source": [
    "!head ./data/custom/valid.txt "
   ]
  },
  {
   "cell_type": "markdown",
   "metadata": {},
   "source": [
    "We can evalauate the preformance of the model on the training dataset (remove the `report` argument to avoid printing):"
   ]
  },
  {
   "cell_type": "code",
   "execution_count": null,
   "metadata": {
    "scrolled": false
   },
   "outputs": [],
   "source": [
    "precision, recall, AP, f1, ap_class, mAP, evaluations_df = evaluate(\n",
    "    model,\n",
    "    './data/custom/train.txt',\n",
    "    class_names,\n",
    "    label_folder_path='data/custom/labels',\n",
    "    report=True\n",
    ")"
   ]
  },
  {
   "cell_type": "markdown",
   "metadata": {},
   "source": [
    "There are two important variables:\n",
    "1. `mAP`  holds the mean Average Precision\n",
    "2. `evaluations_df` holds a pandas dataframe of the evaluation of each image"
   ]
  },
  {
   "cell_type": "code",
   "execution_count": null,
   "metadata": {},
   "outputs": [],
   "source": [
    "mAP"
   ]
  },
  {
   "cell_type": "markdown",
   "metadata": {},
   "source": [
    "In `evaluations_df` there are eight columns:\n",
    "1. `path` - The path to the image\n",
    "2. `tp` - For each prediction of the model, whehter it is true positive (1) or false positive (0)\n",
    "3. `pred_confs` - The confidence score of the model to each of its prediction, in the same order of `tp`\n",
    "4. `pred_labels` - The label that the model predited, in the same order of `tp`\n",
    "5. `true_labels` - The true labels\n",
    "6. `precision` - Precision of all the predictions\n",
    "7. `recall` - Recall over all the predictions\n",
    "8. `detections` - Bounding boxes of the predictions (primarly for internal use of some functions)"
   ]
  },
  {
   "cell_type": "code",
   "execution_count": null,
   "metadata": {},
   "outputs": [],
   "source": [
    "evaluations_df.head()"
   ]
  },
  {
   "cell_type": "markdown",
   "metadata": {},
   "source": [
    "With `draw_multiple_detections` we can draw evaluations (we use the method `sample` to get random images to explore):"
   ]
  },
  {
   "cell_type": "code",
   "execution_count": null,
   "metadata": {},
   "outputs": [],
   "source": [
    "draw_multiple_detections(evaluations_df.sample(4));"
   ]
  },
  {
   "cell_type": "markdown",
   "metadata": {},
   "source": [
    "Note that you have also the text file `./data/custom/accident.txt` that contains the path of the two accident images:"
   ]
  },
  {
   "cell_type": "code",
   "execution_count": null,
   "metadata": {},
   "outputs": [],
   "source": [
    "!cat ./data/custom/accident.txt"
   ]
  },
  {
   "cell_type": "code",
   "execution_count": null,
   "metadata": {},
   "outputs": [],
   "source": [
    "# Your code here..."
   ]
  }
 ],
 "metadata": {
  "kernelspec": {
   "display_name": "Python 3",
   "language": "python",
   "name": "python3"
  },
  "language_info": {
   "codemirror_mode": {
    "name": "ipython",
    "version": 3
   },
   "file_extension": ".py",
   "mimetype": "text/x-python",
   "name": "python",
   "nbconvert_exporter": "python",
   "pygments_lexer": "ipython3",
   "version": "3.6.9"
  }
 },
 "nbformat": 4,
 "nbformat_minor": 4
}
