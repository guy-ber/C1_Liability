{
 "cells": [
  {
   "cell_type": "markdown",
   "metadata": {},
   "source": [
    "# AI & Law - Challenge 1 - Liability - Part 2\n",
    "\n",
    "## Tip: Copy-paste these cells into your first part notebook."
   ]
  },
  {
   "cell_type": "markdown",
   "metadata": {},
   "source": [
    "## Image from the camera in the car just before the accident\n",
    "<small>Source: Google Street View</small>\n",
    "\n",
    "`./data/custom/car/car.png`\n",
    "![](./data/custom/car/car.png)"
   ]
  },
  {
   "cell_type": "markdown",
   "metadata": {},
   "source": [
    "### Let's try to detect traffic signs in an image from the camera in the car just before the accident"
   ]
  },
  {
   "cell_type": "code",
   "execution_count": null,
   "metadata": {},
   "outputs": [],
   "source": [
    "# HIDDEN\n",
    "\n",
    "# The function detect_multi with the argument `path_type='folder'`\n",
    "# iterates over all the images in the `path` argument,\n",
    "# it returns a list of paths as the first returned value\n",
    "# and a list of images as 4-dim numpy array (NWHC) as the second returned value\n",
    "car_img_paths, car_img_detections = detect_multi(model, class_names,\n",
    "                                                 path= './data/custom/car', path_type='folder')\n",
    "\n",
    "# Draw the detections\n",
    "draw_detections(car_img_paths[0], car_img_detections[0])"
   ]
  },
  {
   "cell_type": "markdown",
   "metadata": {},
   "source": [
    "### Training and Validation Datasets\n",
    "\n",
    "The files `./data/custom/train.txt` and `./data/custom/valid.txt` holds the paths of the training and validation dataset imgages, respectively.\n"
   ]
  },
  {
   "cell_type": "code",
   "execution_count": null,
   "metadata": {},
   "outputs": [],
   "source": [
    "!head ./data/custom/train.txt "
   ]
  },
  {
   "cell_type": "code",
   "execution_count": null,
   "metadata": {},
   "outputs": [],
   "source": [
    "!head ./data/custom/valid.txt "
   ]
  },
  {
   "cell_type": "markdown",
   "metadata": {},
   "source": [
    "We can evalauate the preformance of the model on the training dataset (remove the `report` argument to avoid printing). You can chang the path to the validataion dataset as well (`./data/custom/train.txt` → `./data/custom/valid.txt`)."
   ]
  },
  {
   "cell_type": "code",
   "execution_count": null,
   "metadata": {
    "scrolled": false
   },
   "outputs": [],
   "source": [
    "precision, recall, AP, f1, ap_class, mAP, evaluations_df = evaluate(\n",
    "    model,\n",
    "    './data/custom/train.txt',\n",
    "    class_names,\n",
    "    label_folder_path='data/custom/labels',\n",
    "    report=True\n",
    ")"
   ]
  },
  {
   "cell_type": "markdown",
   "metadata": {},
   "source": [
    "There are two important variables:\n",
    "1. `mAP`  holds the mean Average Precision\n",
    "2. `evaluations_df` holds a pandas dataframe of the evaluation of each image"
   ]
  },
  {
   "cell_type": "code",
   "execution_count": null,
   "metadata": {},
   "outputs": [],
   "source": [
    "mAP"
   ]
  },
  {
   "cell_type": "markdown",
   "metadata": {},
   "source": [
    "In `evaluations_df` there are eight columns:\n",
    "1. `path` - The path to the image\n",
    "2. `tp` - For each prediction of the model, whehter it is true positive (1) or false positive (0)\n",
    "3. `pred_confs` - The confidence score of the model to each of its prediction, in the same order of `tp`\n",
    "4. `pred_labels` - The label that the model predited, in the same order of `tp`\n",
    "5. `true_labels` - The true labels\n",
    "6. `precision` - Precision of all the predictions\n",
    "7. `recall` - Recall over all the predictions\n",
    "8. `detections` - Bounding boxes of the predictions (primarly for internal use of some functions)\n",
    "\n",
    "Note: If there is no detection, we define precision as `NaN`."
   ]
  },
  {
   "cell_type": "code",
   "execution_count": null,
   "metadata": {},
   "outputs": [],
   "source": [
    "evaluations_df.head()"
   ]
  },
  {
   "cell_type": "markdown",
   "metadata": {},
   "source": [
    "With `draw_multiple_detections` we can draw evaluations (we use the method `sample` to get random images to explore, so you can run the next cell multiple times and get new images):"
   ]
  },
  {
   "cell_type": "code",
   "execution_count": null,
   "metadata": {},
   "outputs": [],
   "source": [
    "draw_multiple_detections(evaluations_df.sample(4));"
   ]
  },
  {
   "cell_type": "markdown",
   "metadata": {},
   "source": [
    "Note that you have also the text file `./data/custom/accident.txt` that contains the path of the two accident images:"
   ]
  },
  {
   "cell_type": "code",
   "execution_count": null,
   "metadata": {},
   "outputs": [],
   "source": [
    "!cat ./data/custom/accident.txt"
   ]
  },
  {
   "cell_type": "code",
   "execution_count": null,
   "metadata": {},
   "outputs": [],
   "source": [
    "# Your code here..."
   ]
  }
 ],
 "metadata": {
  "kernelspec": {
   "display_name": "Python 3",
   "language": "python",
   "name": "python3"
  }
 },
 "nbformat": 4,
 "nbformat_minor": 4
}
