{
 "cells": [
  {
   "cell_type": "markdown",
   "metadata": {},
   "source": [
    "# AI & Law - Challenge 1 - Liability - Part 3\n",
    "\n",
    "## Tip: Copy-paste these cells into your first part notebook."
   ]
  },
  {
   "cell_type": "markdown",
   "metadata": {},
   "source": [
    "## Exploring Augmentations\n",
    "\n",
    "To understand the impact of different augmentations on the model preformance, we can use the function `apply_augmentation` which create a copy of all the images by a paths from a text file (e.g., `./data/custom/valid.txt`), a augmentation function (e.g., `am.add_rain`) and parameters for each augmentaton (e.g., `rain_type='dizzle`, `drop_width=3`). The function returns the text file that contains all the paths to the new generated images.\n",
    "\n",
    "See the complete documentation of the augmentation functions [**here**](https://github.com/UjjwalSaxena/Automold--Road-Augmentation-Library/blob/master/README.md). You don't need to import anything new, as all the functionality is in the already existing package `augmentation`.\n",
    "\n",
    "<small>Credit: Based on the [Automold--Road-Augmentation-Library](https://github.com/UjjwalSaxena/Automold--Road-Augmentation-Library) by [UjjwalSaxena](https://github.com/UjjwalSaxena); MIT LIcense</small>"
   ]
  },
  {
   "cell_type": "code",
   "execution_count": null,
   "metadata": {},
   "outputs": [],
   "source": [
    "from src.challenge import draw_img\n",
    "import src.augmentation.automold as am"
   ]
  },
  {
   "cell_type": "code",
   "execution_count": null,
   "metadata": {},
   "outputs": [],
   "source": [
    "aug_rain_path = apply_augmentation('./data/custom/valid.txt',\n",
    "                                   am.add_rain,\n",
    "                                   rain_type='heavy',\n",
    "                                   drop_width=1)"
   ]
  },
  {
   "cell_type": "markdown",
   "metadata": {},
   "source": [
    "`apply_augmentation` returns a path to a new text file that contains the locations of the augmented images:"
   ]
  },
  {
   "cell_type": "code",
   "execution_count": null,
   "metadata": {},
   "outputs": [],
   "source": [
    "aug_rain_path"
   ]
  },
  {
   "cell_type": "code",
   "execution_count": null,
   "metadata": {},
   "outputs": [],
   "source": [
    "!head {aug_rain_path}"
   ]
  },
  {
   "cell_type": "markdown",
   "metadata": {},
   "source": [
    "With the function `draw_img` we can draw one on of the augmented images (without applying the model to detect traffic signes):"
   ]
  },
  {
   "cell_type": "code",
   "execution_count": null,
   "metadata": {},
   "outputs": [],
   "source": [
    "draw_img('data/custom/valid--aug-add_rain_heavy-1/00010.png');"
   ]
  },
  {
   "cell_type": "markdown",
   "metadata": {},
   "source": [
    "We can use `aug_rain_path` with `evaluate`, as we did before with `./data/custom/train.txt` and `./data/custom/valid.txt`:"
   ]
  },
  {
   "cell_type": "code",
   "execution_count": null,
   "metadata": {},
   "outputs": [],
   "source": [
    "_, _, _, _, _, mAP, df = evaluate(\n",
    "    model,\n",
    "    aug_rain_path,\n",
    "    class_names,\n",
    "    label_folder_path='data/custom/labels',\n",
    "    progress=iter,\n",
    "    report=True\n",
    ")"
   ]
  },
  {
   "cell_type": "code",
   "execution_count": null,
   "metadata": {},
   "outputs": [],
   "source": [
    "# Your code here..."
   ]
  }
 ],
 "metadata": {
  "kernelspec": {
   "display_name": "Python 3",
   "language": "python",
   "name": "python3"
  }
 },
 "nbformat": 4,
 "nbformat_minor": 4
}
